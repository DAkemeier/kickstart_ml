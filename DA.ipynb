{
 "cells": [
  {
   "cell_type": "code",
   "execution_count": 1,
   "id": "a782d61a",
   "metadata": {},
   "outputs": [],
   "source": [
    "# import main libraries\n",
    "import pandas as pd\n",
    "import numpy as np\n",
    "\n",
    "# make pairplots feature vs state\n",
    "import seaborn as sns\n",
    "import matplotlib.pyplot as plt\n",
    "\n",
    "# to evaluate the model\n",
    "from sklearn.model_selection import train_test_split\n",
    "from sklearn.metrics import classification_report, accuracy_score\n",
    "from sklearn.metrics import confusion_matrix, ConfusionMatrixDisplay\n",
    "\n",
    "# import data from csv\n",
    "df = pd.read_csv('data/kickstarter_projects.csv')\n",
    "\n",
    "\n",
    "# import KNN classifier\n",
    "from sklearn.neighbors import KNeighborsClassifier\n",
    "\n",
    "# import Pipeline and basic preprocessing tools\n",
    "from sklearn.pipeline import Pipeline\n",
    "from sklearn.compose import ColumnTransformer\n",
    "from sklearn.preprocessing import OneHotEncoder, StandardScaler\n",
    "from sklearn.impute import SimpleImputer\n",
    "\n",
    "#import GridSearchCV\n",
    "from sklearn.model_selection import GridSearchCV"
   ]
  },
  {
   "cell_type": "code",
   "execution_count": 2,
   "id": "13ab45c1",
   "metadata": {},
   "outputs": [],
   "source": [
    "from sklearn.base import BaseEstimator, TransformerMixin\n",
    "from sentence_transformers import SentenceTransformer\n",
    "import numpy as np\n",
    "import pandas as pd\n",
    "\n",
    "class NameEmbeddingTransformer(BaseEstimator, TransformerMixin):\n",
    "    def __init__(self, model_name='all-MiniLM-L6-v2'):\n",
    "        self.model_name = model_name\n",
    "        self.model = None\n",
    "\n",
    "    def fit(self, X, y=None):\n",
    "        self.model = SentenceTransformer(self.model_name)\n",
    "        return self\n",
    "\n",
    "    def transform(self, X):\n",
    "        # ✅ Robust handling of DataFrame, Series, or ndarray\n",
    "        if isinstance(X, pd.DataFrame):\n",
    "            # Use the first column (e.g., df[['Name']] → df['Name'])\n",
    "            X = X.iloc[:, 0]\n",
    "        elif isinstance(X, np.ndarray) and X.ndim == 2:\n",
    "            X = X[:, 0]  # From 2D to 1D array\n",
    "\n",
    "        X_list = X.tolist()  # Final input: list of strings\n",
    "        embeddings = self.model.encode(X_list)\n",
    "        return embeddings"
   ]
  },
  {
   "cell_type": "code",
   "execution_count": 3,
   "id": "0b522897",
   "metadata": {},
   "outputs": [],
   "source": [
    "#drop collums that are useless or cause data leakage\n",
    "df = df.drop(columns=['ID', 'Pledged', 'Backers'])\n",
    "\n",
    "df = df.query('State != \"Live\" and State != \"Suspended\" and State != \"Canceled\" and State != \"Unknown\"').reset_index(drop=True)\n",
    "\n"
   ]
  },
  {
   "cell_type": "code",
   "execution_count": 12,
   "id": "e8857670",
   "metadata": {},
   "outputs": [],
   "source": [
    "# i want to take a sample of 10% of the data, for testing\n",
    "df_sample = df.sample(frac=0.01, random_state=42)\n",
    "df_sample.reset_index(drop=True, inplace=True)"
   ]
  },
  {
   "cell_type": "code",
   "execution_count": 13,
   "id": "4a1c97de",
   "metadata": {},
   "outputs": [],
   "source": [
    "#TODO: export column names as features and target\n",
    "\n",
    "features = df.columns.tolist()  \n",
    "target = 'State'\n",
    "features.remove(target)\n",
    "\n",
    "num_features = (['Goal'])\n",
    "name_features = (['Name'])\n",
    "date_features = (['Launched', 'Deadline'])\n",
    "\n",
    "cat_features = features.copy()\n",
    "cat_features.remove(num_features[0])\n",
    "cat_features.remove(name_features[0])\n",
    "cat_features = [f for f in cat_features if f not in date_features]"
   ]
  },
  {
   "cell_type": "code",
   "execution_count": 14,
   "id": "afa1f718",
   "metadata": {},
   "outputs": [
    {
     "name": "stdout",
     "output_type": "stream",
     "text": [
      "features:  ['Name', 'Category', 'Subcategory', 'Country', 'Launched', 'Deadline', 'Goal']\n",
      "target:  State\n",
      "num_features:  ['Goal']\n",
      "name_features:  ['Name']\n",
      "date_features:  ['Launched', 'Deadline']\n",
      "cat_features:  ['Category', 'Subcategory', 'Country']\n"
     ]
    }
   ],
   "source": [
    "print('features: ', features)\n",
    "print('target: ', target)\n",
    "print('num_features: ', num_features)\n",
    "print('name_features: ', name_features)\n",
    "print('date_features: ', date_features)\n",
    "print('cat_features: ', cat_features)"
   ]
  },
  {
   "cell_type": "code",
   "execution_count": 15,
   "id": "dce9f5a0",
   "metadata": {},
   "outputs": [],
   "source": [
    "#TODO: build pipeline numerical, name and categorical transformers'\n",
    "\n",
    "num_pipeline = 'passthrough'\n",
    "date_pipeline = 'passthrough'\n",
    "name_pipeline = Pipeline([\n",
    "    ('embed', NameEmbeddingTransformer())\n",
    "])\n",
    "\n",
    "cat_pipeline = Pipeline(steps=[\n",
    "    ('onehot', OneHotEncoder(handle_unknown='ignore', sparse_output=False))\n",
    "])"
   ]
  },
  {
   "cell_type": "code",
   "execution_count": 16,
   "id": "2ac852f9",
   "metadata": {},
   "outputs": [
    {
     "name": "stdout",
     "output_type": "stream",
     "text": [
      "Num features: ['Goal']\n",
      "Date features: ['Launched', 'Deadline']\n",
      "Name features: ['Name']\n",
      "Cat features: ['Category', 'Subcategory', 'Country']\n"
     ]
    }
   ],
   "source": [
    "print('Num features:', num_features)\n",
    "print('Date features:', date_features)\n",
    "print('Name features:', name_features)\n",
    "print('Cat features:', cat_features)"
   ]
  },
  {
   "cell_type": "code",
   "execution_count": 20,
   "id": "2a1bd166",
   "metadata": {},
   "outputs": [],
   "source": [
    "#TODO: build preprocessor\n",
    "preprocessor = ColumnTransformer(\n",
    "    transformers=[\n",
    "        ('num', num_pipeline, num_features),\n",
    "       # ('date', date_pipeline, date_features),\n",
    "        ('name', name_pipeline, name_features),\n",
    "        ('cat', cat_pipeline, cat_features)\n",
    "    ],\n",
    "    remainder='drop'\n",
    ")"
   ]
  },
  {
   "cell_type": "code",
   "execution_count": 21,
   "id": "9ad54acb",
   "metadata": {},
   "outputs": [],
   "source": [
    "#TODO: Set up the pipeline\n",
    "pipe = Pipeline([\n",
    "    ('preprocessor', preprocessor),\n",
    "    ('model', KNeighborsClassifier())  \n",
    "])"
   ]
  },
  {
   "cell_type": "code",
   "execution_count": 22,
   "id": "0b122daa",
   "metadata": {},
   "outputs": [
    {
     "name": "stdout",
     "output_type": "stream",
     "text": [
      "X_type: <class 'pandas.core.frame.DataFrame'> y_type: <class 'pandas.core.series.Series'>\n",
      "X_train_type: <class 'pandas.core.frame.DataFrame'> y_train_type: <class 'pandas.core.series.Series'>\n",
      "X_test_type: <class 'pandas.core.frame.DataFrame'> y_test_type: <class 'pandas.core.series.Series'>\n"
     ]
    }
   ],
   "source": [
    "# X and y and split the data\n",
    "X = df_sample[features]\n",
    "y = df_sample[target]\n",
    "print('X_type:', type(X), 'y_type:', type(y))\n",
    "X_train, X_test, y_train, y_test = train_test_split(X, y, test_size=0.2, random_state=42)\n",
    "print('X_train_type:', type(X_train), 'y_train_type:', type(y_train))\n",
    "print('X_test_type:', type(X_test), 'y_test_type:', type(y_test))"
   ]
  },
  {
   "cell_type": "code",
   "execution_count": null,
   "id": "c0afe686",
   "metadata": {},
   "outputs": [],
   "source": [
    "#TODO: Fit the pipeline\n",
    "pipe.fit(X_train, y_train)"
   ]
  },
  {
   "cell_type": "code",
   "execution_count": 27,
   "id": "af303978",
   "metadata": {},
   "outputs": [],
   "source": [
    "#TODO: Create a parameter grid for the KNN classifier\n",
    "param_grid = {\n",
    "    'model__n_neighbors': [3, 5, 7, 9],\n",
    "    'model__weights': ['uniform', 'distance'],\n",
    "    'model__metric': ['euclidean'],\n",
    "    'model__algorithm': ['auto', 'ball_tree', 'kd_tree', 'brute'],\n",
    "}\n",
    "\n",
    "search = GridSearchCV(pipe, param_grid, cv=5, n_jobs=-1, verbose=1)"
   ]
  },
  {
   "cell_type": "code",
   "execution_count": null,
   "id": "eeed61c3",
   "metadata": {},
   "outputs": [
    {
     "name": "stdout",
     "output_type": "stream",
     "text": [
      "Fitting 5 folds for each of 32 candidates, totalling 160 fits\n"
     ]
    }
   ],
   "source": [
    "search.fit(X_train, y_train)\n",
    "print(\"Best parameters found: \", search.best_params_)\n",
    "print(\"Best score found: \", search.best_score_)"
   ]
  },
  {
   "cell_type": "code",
   "execution_count": 14,
   "id": "4f1b8188",
   "metadata": {},
   "outputs": [
    {
     "name": "stdout",
     "output_type": "stream",
     "text": [
      "Accuracy:  0.6209653092006033\n",
      "Classification report: \n",
      "               precision    recall  f1-score   support\n",
      "\n",
      "      Failed       0.67      0.72      0.69      3949\n",
      "  Successful       0.54      0.47      0.50      2681\n",
      "\n",
      "    accuracy                           0.62      6630\n",
      "   macro avg       0.60      0.60      0.60      6630\n",
      "weighted avg       0.61      0.62      0.62      6630\n",
      "\n"
     ]
    }
   ],
   "source": [
    "#print the evaluation metrics\n",
    "y_pred = search.predict(X_test)\n",
    "print(\"Accuracy: \", accuracy_score(y_test, y_pred))\n",
    "print(\"Classification report: \\n\", classification_report(y_test, y_pred))"
   ]
  }
 ],
 "metadata": {
  "kernelspec": {
   "display_name": ".venv",
   "language": "python",
   "name": "python3"
  },
  "language_info": {
   "codemirror_mode": {
    "name": "ipython",
    "version": 3
   },
   "file_extension": ".py",
   "mimetype": "text/x-python",
   "name": "python",
   "nbconvert_exporter": "python",
   "pygments_lexer": "ipython3",
   "version": "3.11.3"
  }
 },
 "nbformat": 4,
 "nbformat_minor": 5
}
