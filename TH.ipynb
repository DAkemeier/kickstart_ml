{
 "cells": [
  {
   "cell_type": "markdown",
   "id": "3b573e13",
   "metadata": {},
   "source": [
    "# Kickstarter\n",
    "Estimate the succefull projects"
   ]
  },
  {
   "cell_type": "markdown",
   "id": "afde2aba",
   "metadata": {},
   "source": [
    "### Import Data and Libraries"
   ]
  },
  {
   "cell_type": "code",
   "execution_count": 409,
   "id": "ee9908a7",
   "metadata": {},
   "outputs": [],
   "source": [
    "# Import of relevant packages\n",
    "import numpy as np\n",
    "import pandas as pd\n",
    "import warnings\n",
    "import matplotlib.pyplot as plt\n",
    "import seaborn as sns\n",
    "\n",
    "from sklearn.pipeline import Pipeline\n",
    "from sklearn.compose import ColumnTransformer\n",
    "from sklearn.preprocessing import OneHotEncoder, StandardScaler\n",
    "from sklearn.impute import SimpleImputer\n",
    "from sklearn.model_selection import train_test_split\n",
    "from sklearn.model_selection import GridSearchCV\n",
    "from sklearn.model_selection import cross_val_predict\n",
    "from sklearn.metrics import accuracy_score, recall_score, precision_score\n",
    "from sklearn.linear_model import LogisticRegression\n",
    "\n",
    "# Set random seed \n",
    "RSEED = 42\n",
    "\n",
    "warnings.filterwarnings(\"ignore\")"
   ]
  },
  {
   "cell_type": "code",
   "execution_count": 410,
   "id": "d6c9f889",
   "metadata": {},
   "outputs": [
    {
     "data": {
      "application/vnd.microsoft.datawrangler.viewer.v0+json": {
       "columns": [
        {
         "name": "index",
         "rawType": "int64",
         "type": "integer"
        },
        {
         "name": "ID",
         "rawType": "int64",
         "type": "integer"
        },
        {
         "name": "Name",
         "rawType": "object",
         "type": "string"
        },
        {
         "name": "Category",
         "rawType": "object",
         "type": "string"
        },
        {
         "name": "Subcategory",
         "rawType": "object",
         "type": "string"
        },
        {
         "name": "Country",
         "rawType": "object",
         "type": "string"
        },
        {
         "name": "Launched",
         "rawType": "object",
         "type": "string"
        },
        {
         "name": "Deadline",
         "rawType": "object",
         "type": "string"
        },
        {
         "name": "Goal",
         "rawType": "int64",
         "type": "integer"
        },
        {
         "name": "Pledged",
         "rawType": "int64",
         "type": "integer"
        },
        {
         "name": "Backers",
         "rawType": "int64",
         "type": "integer"
        },
        {
         "name": "State",
         "rawType": "object",
         "type": "string"
        }
       ],
       "conversionMethod": "pd.DataFrame",
       "ref": "2b7fe8ab-4c08-4304-8a05-768d4397a351",
       "rows": [
        [
         "0",
         "1860890148",
         "Grace Jones Does Not Give A F$#% T-Shirt (limited Edition) ",
         "Fashion",
         "Fashion",
         "United States",
         "2009-04-21 21:02:48",
         "2009-05-31",
         "1000",
         "625",
         "30",
         "Failed"
        ],
        [
         "1",
         "709707365",
         "CRYSTAL ANTLERS UNTITLED MOVIE",
         "Film & Video",
         "Shorts",
         "United States",
         "2009-04-23 00:07:53",
         "2009-07-20",
         "80000",
         "22",
         "3",
         "Failed"
        ],
        [
         "2",
         "1703704063",
         "drawing for dollars",
         "Art",
         "Illustration",
         "United States",
         "2009-04-24 21:52:03",
         "2009-05-03",
         "20",
         "35",
         "3",
         "Successful"
        ],
        [
         "3",
         "727286",
         "Offline Wikipedia iPhone app",
         "Technology",
         "Software",
         "United States",
         "2009-04-25 17:36:21",
         "2009-07-14",
         "99",
         "145",
         "25",
         "Successful"
        ],
        [
         "4",
         "1622952265",
         "Pantshirts",
         "Fashion",
         "Fashion",
         "United States",
         "2009-04-27 14:10:39",
         "2009-05-26",
         "1900",
         "387",
         "10",
         "Failed"
        ],
        [
         "5",
         "2089078683",
         "New York Makes a Book!!",
         "Journalism",
         "Journalism",
         "United States",
         "2009-04-28 13:55:41",
         "2009-05-16",
         "3000",
         "3329",
         "110",
         "Successful"
        ],
        [
         "6",
         "830477146",
         "Web Site for Short Horror Film",
         "Film & Video",
         "Shorts",
         "United States",
         "2009-04-29 02:04:21",
         "2009-05-29",
         "200",
         "41",
         "3",
         "Failed"
        ],
        [
         "7",
         "266044220",
         "Help me write my second novel.",
         "Publishing",
         "Fiction",
         "United States",
         "2009-04-29 02:58:50",
         "2009-05-29",
         "500",
         "563",
         "18",
         "Successful"
        ],
        [
         "8",
         "1502297238",
         "Produce a Play (Canceled)",
         "Theater",
         "Theater",
         "United States",
         "2009-04-29 04:37:37",
         "2009-06-01",
         "500",
         "0",
         "0",
         "Canceled"
        ],
        [
         "9",
         "813230527",
         "Sponsor Dereck Blackburn (Lostwars) Artist in Residence in Kankakee Illinois",
         "Music",
         "Rock",
         "United States",
         "2009-04-29 05:26:32",
         "2009-05-16",
         "300",
         "15",
         "2",
         "Failed"
        ]
       ],
       "shape": {
        "columns": 11,
        "rows": 10
       }
      },
      "text/html": [
       "<div>\n",
       "<style scoped>\n",
       "    .dataframe tbody tr th:only-of-type {\n",
       "        vertical-align: middle;\n",
       "    }\n",
       "\n",
       "    .dataframe tbody tr th {\n",
       "        vertical-align: top;\n",
       "    }\n",
       "\n",
       "    .dataframe thead th {\n",
       "        text-align: right;\n",
       "    }\n",
       "</style>\n",
       "<table border=\"1\" class=\"dataframe\">\n",
       "  <thead>\n",
       "    <tr style=\"text-align: right;\">\n",
       "      <th></th>\n",
       "      <th>ID</th>\n",
       "      <th>Name</th>\n",
       "      <th>Category</th>\n",
       "      <th>Subcategory</th>\n",
       "      <th>Country</th>\n",
       "      <th>Launched</th>\n",
       "      <th>Deadline</th>\n",
       "      <th>Goal</th>\n",
       "      <th>Pledged</th>\n",
       "      <th>Backers</th>\n",
       "      <th>State</th>\n",
       "    </tr>\n",
       "  </thead>\n",
       "  <tbody>\n",
       "    <tr>\n",
       "      <th>0</th>\n",
       "      <td>1860890148</td>\n",
       "      <td>Grace Jones Does Not Give A F$#% T-Shirt (limi...</td>\n",
       "      <td>Fashion</td>\n",
       "      <td>Fashion</td>\n",
       "      <td>United States</td>\n",
       "      <td>2009-04-21 21:02:48</td>\n",
       "      <td>2009-05-31</td>\n",
       "      <td>1000</td>\n",
       "      <td>625</td>\n",
       "      <td>30</td>\n",
       "      <td>Failed</td>\n",
       "    </tr>\n",
       "    <tr>\n",
       "      <th>1</th>\n",
       "      <td>709707365</td>\n",
       "      <td>CRYSTAL ANTLERS UNTITLED MOVIE</td>\n",
       "      <td>Film &amp; Video</td>\n",
       "      <td>Shorts</td>\n",
       "      <td>United States</td>\n",
       "      <td>2009-04-23 00:07:53</td>\n",
       "      <td>2009-07-20</td>\n",
       "      <td>80000</td>\n",
       "      <td>22</td>\n",
       "      <td>3</td>\n",
       "      <td>Failed</td>\n",
       "    </tr>\n",
       "    <tr>\n",
       "      <th>2</th>\n",
       "      <td>1703704063</td>\n",
       "      <td>drawing for dollars</td>\n",
       "      <td>Art</td>\n",
       "      <td>Illustration</td>\n",
       "      <td>United States</td>\n",
       "      <td>2009-04-24 21:52:03</td>\n",
       "      <td>2009-05-03</td>\n",
       "      <td>20</td>\n",
       "      <td>35</td>\n",
       "      <td>3</td>\n",
       "      <td>Successful</td>\n",
       "    </tr>\n",
       "    <tr>\n",
       "      <th>3</th>\n",
       "      <td>727286</td>\n",
       "      <td>Offline Wikipedia iPhone app</td>\n",
       "      <td>Technology</td>\n",
       "      <td>Software</td>\n",
       "      <td>United States</td>\n",
       "      <td>2009-04-25 17:36:21</td>\n",
       "      <td>2009-07-14</td>\n",
       "      <td>99</td>\n",
       "      <td>145</td>\n",
       "      <td>25</td>\n",
       "      <td>Successful</td>\n",
       "    </tr>\n",
       "    <tr>\n",
       "      <th>4</th>\n",
       "      <td>1622952265</td>\n",
       "      <td>Pantshirts</td>\n",
       "      <td>Fashion</td>\n",
       "      <td>Fashion</td>\n",
       "      <td>United States</td>\n",
       "      <td>2009-04-27 14:10:39</td>\n",
       "      <td>2009-05-26</td>\n",
       "      <td>1900</td>\n",
       "      <td>387</td>\n",
       "      <td>10</td>\n",
       "      <td>Failed</td>\n",
       "    </tr>\n",
       "    <tr>\n",
       "      <th>5</th>\n",
       "      <td>2089078683</td>\n",
       "      <td>New York Makes a Book!!</td>\n",
       "      <td>Journalism</td>\n",
       "      <td>Journalism</td>\n",
       "      <td>United States</td>\n",
       "      <td>2009-04-28 13:55:41</td>\n",
       "      <td>2009-05-16</td>\n",
       "      <td>3000</td>\n",
       "      <td>3329</td>\n",
       "      <td>110</td>\n",
       "      <td>Successful</td>\n",
       "    </tr>\n",
       "    <tr>\n",
       "      <th>6</th>\n",
       "      <td>830477146</td>\n",
       "      <td>Web Site for Short Horror Film</td>\n",
       "      <td>Film &amp; Video</td>\n",
       "      <td>Shorts</td>\n",
       "      <td>United States</td>\n",
       "      <td>2009-04-29 02:04:21</td>\n",
       "      <td>2009-05-29</td>\n",
       "      <td>200</td>\n",
       "      <td>41</td>\n",
       "      <td>3</td>\n",
       "      <td>Failed</td>\n",
       "    </tr>\n",
       "    <tr>\n",
       "      <th>7</th>\n",
       "      <td>266044220</td>\n",
       "      <td>Help me write my second novel.</td>\n",
       "      <td>Publishing</td>\n",
       "      <td>Fiction</td>\n",
       "      <td>United States</td>\n",
       "      <td>2009-04-29 02:58:50</td>\n",
       "      <td>2009-05-29</td>\n",
       "      <td>500</td>\n",
       "      <td>563</td>\n",
       "      <td>18</td>\n",
       "      <td>Successful</td>\n",
       "    </tr>\n",
       "    <tr>\n",
       "      <th>8</th>\n",
       "      <td>1502297238</td>\n",
       "      <td>Produce a Play (Canceled)</td>\n",
       "      <td>Theater</td>\n",
       "      <td>Theater</td>\n",
       "      <td>United States</td>\n",
       "      <td>2009-04-29 04:37:37</td>\n",
       "      <td>2009-06-01</td>\n",
       "      <td>500</td>\n",
       "      <td>0</td>\n",
       "      <td>0</td>\n",
       "      <td>Canceled</td>\n",
       "    </tr>\n",
       "    <tr>\n",
       "      <th>9</th>\n",
       "      <td>813230527</td>\n",
       "      <td>Sponsor Dereck Blackburn (Lostwars) Artist in ...</td>\n",
       "      <td>Music</td>\n",
       "      <td>Rock</td>\n",
       "      <td>United States</td>\n",
       "      <td>2009-04-29 05:26:32</td>\n",
       "      <td>2009-05-16</td>\n",
       "      <td>300</td>\n",
       "      <td>15</td>\n",
       "      <td>2</td>\n",
       "      <td>Failed</td>\n",
       "    </tr>\n",
       "  </tbody>\n",
       "</table>\n",
       "</div>"
      ],
      "text/plain": [
       "           ID                                               Name   \n",
       "0  1860890148  Grace Jones Does Not Give A F$#% T-Shirt (limi...  \\\n",
       "1   709707365                     CRYSTAL ANTLERS UNTITLED MOVIE   \n",
       "2  1703704063                                drawing for dollars   \n",
       "3      727286                       Offline Wikipedia iPhone app   \n",
       "4  1622952265                                         Pantshirts   \n",
       "5  2089078683                            New York Makes a Book!!   \n",
       "6   830477146                     Web Site for Short Horror Film   \n",
       "7   266044220                     Help me write my second novel.   \n",
       "8  1502297238                          Produce a Play (Canceled)   \n",
       "9   813230527  Sponsor Dereck Blackburn (Lostwars) Artist in ...   \n",
       "\n",
       "       Category   Subcategory        Country             Launched    Deadline   \n",
       "0       Fashion       Fashion  United States  2009-04-21 21:02:48  2009-05-31  \\\n",
       "1  Film & Video        Shorts  United States  2009-04-23 00:07:53  2009-07-20   \n",
       "2           Art  Illustration  United States  2009-04-24 21:52:03  2009-05-03   \n",
       "3    Technology      Software  United States  2009-04-25 17:36:21  2009-07-14   \n",
       "4       Fashion       Fashion  United States  2009-04-27 14:10:39  2009-05-26   \n",
       "5    Journalism    Journalism  United States  2009-04-28 13:55:41  2009-05-16   \n",
       "6  Film & Video        Shorts  United States  2009-04-29 02:04:21  2009-05-29   \n",
       "7    Publishing       Fiction  United States  2009-04-29 02:58:50  2009-05-29   \n",
       "8       Theater       Theater  United States  2009-04-29 04:37:37  2009-06-01   \n",
       "9         Music          Rock  United States  2009-04-29 05:26:32  2009-05-16   \n",
       "\n",
       "    Goal  Pledged  Backers       State  \n",
       "0   1000      625       30      Failed  \n",
       "1  80000       22        3      Failed  \n",
       "2     20       35        3  Successful  \n",
       "3     99      145       25  Successful  \n",
       "4   1900      387       10      Failed  \n",
       "5   3000     3329      110  Successful  \n",
       "6    200       41        3      Failed  \n",
       "7    500      563       18  Successful  \n",
       "8    500        0        0    Canceled  \n",
       "9    300       15        2      Failed  "
      ]
     },
     "execution_count": 410,
     "metadata": {},
     "output_type": "execute_result"
    }
   ],
   "source": [
    "# Loading the kickstarter dataset\n",
    "df = pd.read_csv('data/kickstarter_projects.csv')\n",
    "\n",
    "# View the first few rows of the dataset\n",
    "df.head(10)"
   ]
  },
  {
   "cell_type": "markdown",
   "id": "bdc61689",
   "metadata": {},
   "source": [
    "### Prepare the Data"
   ]
  },
  {
   "cell_type": "code",
   "execution_count": 411,
   "id": "479f3deb",
   "metadata": {},
   "outputs": [
    {
     "data": {
      "text/plain": [
       "ID              int64\n",
       "Name           object\n",
       "Category       object\n",
       "Subcategory    object\n",
       "Country        object\n",
       "Launched       object\n",
       "Deadline       object\n",
       "Goal            int64\n",
       "Pledged         int64\n",
       "Backers         int64\n",
       "State          object\n",
       "dtype: object"
      ]
     },
     "execution_count": 411,
     "metadata": {},
     "output_type": "execute_result"
    }
   ],
   "source": [
    "# View the data types of the columns\n",
    "df.dtypes"
   ]
  },
  {
   "cell_type": "code",
   "execution_count": 412,
   "id": "b456670b",
   "metadata": {},
   "outputs": [
    {
     "data": {
      "text/plain": [
       "Index(['Name', 'Category', 'Subcategory', 'Country', 'Launched', 'Deadline',\n",
       "       'Goal', 'State'],\n",
       "      dtype='object')"
      ]
     },
     "execution_count": 412,
     "metadata": {},
     "output_type": "execute_result"
    }
   ],
   "source": [
    "# Dropping the unnecessary columns \n",
    "df.drop(['ID', 'Pledged', 'Backers',], axis=1, inplace=True)\n",
    "df.columns"
   ]
  },
  {
   "cell_type": "code",
   "execution_count": 413,
   "id": "ebb14ecf",
   "metadata": {},
   "outputs": [
    {
     "data": {
      "application/vnd.microsoft.datawrangler.viewer.v0+json": {
       "columns": [
        {
         "name": "index",
         "rawType": "int64",
         "type": "integer"
        },
        {
         "name": "Launched",
         "rawType": "datetime64[ns]",
         "type": "datetime"
        },
        {
         "name": "Deadline",
         "rawType": "datetime64[ns]",
         "type": "datetime"
        },
        {
         "name": "Duration",
         "rawType": "int64",
         "type": "integer"
        }
       ],
       "conversionMethod": "pd.DataFrame",
       "ref": "80d13ad7-93d9-4368-80c3-ebed0aa3e5c3",
       "rows": [
        [
         "0",
         "2009-04-21 21:02:48",
         "2009-05-31 00:00:00",
         "39"
        ],
        [
         "1",
         "2009-04-23 00:07:53",
         "2009-07-20 00:00:00",
         "87"
        ],
        [
         "2",
         "2009-04-24 21:52:03",
         "2009-05-03 00:00:00",
         "8"
        ],
        [
         "3",
         "2009-04-25 17:36:21",
         "2009-07-14 00:00:00",
         "79"
        ],
        [
         "4",
         "2009-04-27 14:10:39",
         "2009-05-26 00:00:00",
         "28"
        ]
       ],
       "shape": {
        "columns": 3,
        "rows": 5
       }
      },
      "text/html": [
       "<div>\n",
       "<style scoped>\n",
       "    .dataframe tbody tr th:only-of-type {\n",
       "        vertical-align: middle;\n",
       "    }\n",
       "\n",
       "    .dataframe tbody tr th {\n",
       "        vertical-align: top;\n",
       "    }\n",
       "\n",
       "    .dataframe thead th {\n",
       "        text-align: right;\n",
       "    }\n",
       "</style>\n",
       "<table border=\"1\" class=\"dataframe\">\n",
       "  <thead>\n",
       "    <tr style=\"text-align: right;\">\n",
       "      <th></th>\n",
       "      <th>Launched</th>\n",
       "      <th>Deadline</th>\n",
       "      <th>Duration</th>\n",
       "    </tr>\n",
       "  </thead>\n",
       "  <tbody>\n",
       "    <tr>\n",
       "      <th>0</th>\n",
       "      <td>2009-04-21 21:02:48</td>\n",
       "      <td>2009-05-31</td>\n",
       "      <td>39</td>\n",
       "    </tr>\n",
       "    <tr>\n",
       "      <th>1</th>\n",
       "      <td>2009-04-23 00:07:53</td>\n",
       "      <td>2009-07-20</td>\n",
       "      <td>87</td>\n",
       "    </tr>\n",
       "    <tr>\n",
       "      <th>2</th>\n",
       "      <td>2009-04-24 21:52:03</td>\n",
       "      <td>2009-05-03</td>\n",
       "      <td>8</td>\n",
       "    </tr>\n",
       "    <tr>\n",
       "      <th>3</th>\n",
       "      <td>2009-04-25 17:36:21</td>\n",
       "      <td>2009-07-14</td>\n",
       "      <td>79</td>\n",
       "    </tr>\n",
       "    <tr>\n",
       "      <th>4</th>\n",
       "      <td>2009-04-27 14:10:39</td>\n",
       "      <td>2009-05-26</td>\n",
       "      <td>28</td>\n",
       "    </tr>\n",
       "  </tbody>\n",
       "</table>\n",
       "</div>"
      ],
      "text/plain": [
       "             Launched   Deadline  Duration\n",
       "0 2009-04-21 21:02:48 2009-05-31        39\n",
       "1 2009-04-23 00:07:53 2009-07-20        87\n",
       "2 2009-04-24 21:52:03 2009-05-03         8\n",
       "3 2009-04-25 17:36:21 2009-07-14        79\n",
       "4 2009-04-27 14:10:39 2009-05-26        28"
      ]
     },
     "execution_count": 413,
     "metadata": {},
     "output_type": "execute_result"
    }
   ],
   "source": [
    "# Convert Launched and Deadline columns to datetime\n",
    "df['Launched'] = pd.to_datetime(df['Launched'])\n",
    "df['Deadline'] = pd.to_datetime(df['Deadline'])\n",
    "\n",
    "# Calculate duration in days\n",
    "df['Duration'] = (df['Deadline'] - df['Launched']).dt.days\n",
    "df[['Launched', 'Deadline', 'Duration']].head()"
   ]
  },
  {
   "cell_type": "code",
   "execution_count": 414,
   "id": "1675f728",
   "metadata": {},
   "outputs": [],
   "source": [
    "# Delete all states which are not 'Successful' or 'Failed'\n",
    "df = df[df['State'].isin(['Successful', 'Failed'])]"
   ]
  },
  {
   "cell_type": "code",
   "execution_count": 415,
   "id": "ae279394",
   "metadata": {},
   "outputs": [
    {
     "data": {
      "text/plain": [
       "['Name', 'Category', 'Subcategory', 'Country']"
      ]
     },
     "execution_count": 415,
     "metadata": {},
     "output_type": "execute_result"
    }
   ],
   "source": [
    "# Creating list for categorical features\n",
    "# and removing the target variable 'State'\n",
    "cat_features = list(df.columns[df.dtypes==object])\n",
    "cat_features.remove('State')\n",
    "cat_features"
   ]
  },
  {
   "cell_type": "code",
   "execution_count": 416,
   "id": "9928d06a",
   "metadata": {},
   "outputs": [
    {
     "data": {
      "text/plain": [
       "['Goal', 'Duration']"
      ]
     },
     "execution_count": 416,
     "metadata": {},
     "output_type": "execute_result"
    }
   ],
   "source": [
    "# Creating list for numerical features\n",
    "num_features = ['Goal', 'Duration'] #list(df.columns[df.dtypes!=object])\n",
    "num_features"
   ]
  },
  {
   "cell_type": "code",
   "execution_count": 417,
   "id": "45882f05",
   "metadata": {},
   "outputs": [
    {
     "data": {
      "text/plain": [
       "['Launched', 'Deadline']"
      ]
     },
     "execution_count": 417,
     "metadata": {},
     "output_type": "execute_result"
    }
   ],
   "source": [
    "# Create list for datetime features\n",
    "date_features = ['Launched', 'Deadline']\n",
    "date_features"
   ]
  },
  {
   "cell_type": "markdown",
   "id": "3bf0c85e",
   "metadata": {},
   "source": [
    "### New Features"
   ]
  },
  {
   "cell_type": "markdown",
   "id": "c88efc32",
   "metadata": {},
   "source": [
    "**Text-based Features:**\n",
    "\n",
    "Name Sentiment Analysis: Perform sentiment analysis on the project names to extract positive, negative, or neutral sentiments. This could capture the emotional appeal of the project.\n",
    "Name Length: The length of the project name might be indicative of something."
   ]
  },
  {
   "cell_type": "markdown",
   "id": "d1b67683",
   "metadata": {},
   "source": [
    "**Outlier Handling:**\n",
    "\n",
    "Capping Outliers: For \"goals,\" \"pledged,\" and \"backers,\" consider capping outliers to reduce their impact on the model."
   ]
  },
  {
   "cell_type": "markdown",
   "id": "cd3e06a4",
   "metadata": {},
   "source": [
    "### Train-Test-Split\n",
    "\n",
    "Let's split the data set into a training and test set. Using the training set and cross validation we will train our model and find the best hyperparameter combination. In the end the test set will be used for the final evaluation of our best model. "
   ]
  },
  {
   "cell_type": "code",
   "execution_count": 418,
   "id": "9633bb84",
   "metadata": {},
   "outputs": [
    {
     "name": "stdout",
     "output_type": "stream",
     "text": [
      "We have 331462 observations in our dataset and 8 features\n",
      "Our target vector has also 331462 values\n"
     ]
    }
   ],
   "source": [
    "# Define predictors and target variable\n",
    "X = df.drop('State', axis=1)\n",
    "y = df['State']\n",
    "print(f\"We have {X.shape[0]} observations in our dataset and {X.shape[1]} features\")\n",
    "print(f\"Our target vector has also {y.shape[0]} values\")"
   ]
  },
  {
   "cell_type": "code",
   "execution_count": 419,
   "id": "c6c7208d",
   "metadata": {},
   "outputs": [],
   "source": [
    "# Split into train and test set \n",
    "X_train, X_test, y_train, y_test = train_test_split(X, y, test_size=0.2, random_state=RSEED)"
   ]
  },
  {
   "cell_type": "code",
   "execution_count": 420,
   "id": "c781ef2e",
   "metadata": {},
   "outputs": [
    {
     "name": "stdout",
     "output_type": "stream",
     "text": [
      "X_train shape: (265169, 8)\n",
      "X_test shape: (66293, 8)\n",
      "y_train shape: (265169,)\n",
      "y_test shape: (66293,)\n"
     ]
    }
   ],
   "source": [
    "print('X_train shape:', X_train.shape)\n",
    "print('X_test shape:', X_test.shape)\n",
    "print('y_train shape:', y_train.shape)\n",
    "print('y_test shape:', y_test.shape)"
   ]
  },
  {
   "cell_type": "markdown",
   "id": "4ca4281b",
   "metadata": {},
   "source": [
    "### Pipeline Parts"
   ]
  },
  {
   "cell_type": "code",
   "execution_count": 421,
   "id": "4e46503e",
   "metadata": {},
   "outputs": [],
   "source": [
    "# Pipeline for categorical features \n",
    "cat_pipeline = Pipeline([\n",
    "    ('1hot', OneHotEncoder(handle_unknown='ignore'))\n",
    "])"
   ]
  },
  {
   "cell_type": "code",
   "execution_count": 422,
   "id": "a1ef191d",
   "metadata": {},
   "outputs": [],
   "source": [
    "# Pipeline for datetime features\n",
    "date_pipeline = Pipeline([\n",
    "    ('std_scaler', StandardScaler())\n",
    "])"
   ]
  },
  {
   "cell_type": "code",
   "execution_count": 423,
   "id": "4ebf4244",
   "metadata": {},
   "outputs": [],
   "source": [
    "# Pipline for numerical features\n",
    "num_pipeline = Pipeline([\n",
    "    ('std_scaler', StandardScaler())\n",
    "])"
   ]
  },
  {
   "cell_type": "markdown",
   "id": "e0595a02",
   "metadata": {},
   "source": [
    "### Prepare the Pipeline"
   ]
  },
  {
   "cell_type": "code",
   "execution_count": 428,
   "id": "4e38c1c0",
   "metadata": {},
   "outputs": [],
   "source": [
    "# Build preprocessor\n",
    "preprocessor = ColumnTransformer(\n",
    "    transformers=[\n",
    "        ('num', num_pipeline, num_features),\n",
    "        ('cat', cat_pipeline, cat_features),\n",
    "        ('date', date_pipeline, date_features)\n",
    "    ],\n",
    "    remainder='drop'\n",
    ")"
   ]
  },
  {
   "cell_type": "markdown",
   "id": "337cd733",
   "metadata": {},
   "source": [
    "### Pick a model"
   ]
  },
  {
   "cell_type": "code",
   "execution_count": 425,
   "id": "d687fb0a",
   "metadata": {},
   "outputs": [],
   "source": [
    "# Set up the pipeline and model\n",
    "pipe = Pipeline([\n",
    "    ('preprocessor', preprocessor),\n",
    "    ('model', LogisticRegression())  \n",
    "])"
   ]
  },
  {
   "cell_type": "markdown",
   "id": "f3bf57aa",
   "metadata": {},
   "source": [
    "### Run the Pipeline"
   ]
  },
  {
   "cell_type": "code",
   "execution_count": 429,
   "id": "4a519898",
   "metadata": {},
   "outputs": [],
   "source": [
    "# Fit the pipeline to the training data\n",
    "pipe.fit(X_train, y_train)\n",
    "# Make predictions on the test data\n",
    "y_pred = pipe.predict(X_test)"
   ]
  },
  {
   "cell_type": "markdown",
   "id": "57625699",
   "metadata": {},
   "source": [
    "### Evaluation"
   ]
  },
  {
   "cell_type": "code",
   "execution_count": 430,
   "id": "114ce462",
   "metadata": {},
   "outputs": [
    {
     "name": "stdout",
     "output_type": "stream",
     "text": [
      "Classification Report:\n",
      "              precision    recall  f1-score   support\n",
      "\n",
      "      Failed       0.70      0.77      0.73     39509\n",
      "  Successful       0.60      0.53      0.56     26784\n",
      "\n",
      "    accuracy                           0.67     66293\n",
      "   macro avg       0.65      0.65      0.65     66293\n",
      "weighted avg       0.66      0.67      0.66     66293\n",
      "\n",
      "Confusion Matrix:\n",
      "[[30324  9185]\n",
      " [12719 14065]]\n"
     ]
    }
   ],
   "source": [
    "# Generate classification report\n",
    "print(\"Classification Report:\")\n",
    "print(classification_report(y_test, y_pred))\n",
    "\n",
    "# Generate confusion matrix\n",
    "print(\"Confusion Matrix:\")\n",
    "print(confusion_matrix(y_test, y_pred))"
   ]
  },
  {
   "cell_type": "markdown",
   "id": "3f9ac42d",
   "metadata": {},
   "source": [
    "### Performance Improvement Plan: \n",
    "- Use Jax\n",
    "- Use Google Cloud\n",
    "- Reduce to 10% \n",
    "\n",
    "Based on your \"To Do\" list and EDA Data Checking notes, here are some feature engineering ideas that could improve your model quality:\n",
    "\n",
    "Time-based Features:\n",
    "\n",
    "Launch Duration: Calculate the duration of the project launch (difference between launch date and deadline).\n",
    "Pre-Launch vs. Post-Launch Analysis: Create features to capture the time before and after the launch date.\n",
    "Text-based Features:\n",
    "\n",
    "Name Sentiment Analysis: Perform sentiment analysis on the project names to extract positive, negative, or neutral sentiments. This could capture the emotional appeal of the project.\n",
    "Name Length: The length of the project name might be indicative of something.\n",
    "Category/Subcategory Features:\n",
    "\n",
    "Combine Categories: Instead of just one-hot encoding, explore creating interaction features between categories and subcategories.\n",
    "Goal-related Features:\n",
    "\n",
    "Goal Currency: Extract the currency from the \"goal\" column (Dollar or Euro) and create a separate feature for it.\n",
    "Goal Success Ratio: Create a feature that represents the ratio of \"pledged\" to \"goal.\" This could indicate how close a project was to succeeding.\n",
    "Backer-related Features:\n",
    "\n",
    "Backer Pledge Amount: Calculate the average pledge amount per backer (pledged / backers).\n",
    "Outlier Handling:\n",
    "\n",
    "Capping Outliers: For \"goals,\" \"pledged,\" and \"backers,\" consider capping outliers to reduce their impact on the model.\n",
    "To implement these, you'll need to add code to your notebook to perform the feature engineering steps. This might involve:\n",
    "\n",
    "Converting date columns to datetime objects.\n",
    "Using string manipulation to extract information from text columns.\n",
    "Applying mathematical operations to create new features.\n",
    "Using libraries like nltk or transformers for sentiment analysis.\n"
   ]
  },
  {
   "cell_type": "markdown",
   "id": "873e296c",
   "metadata": {},
   "source": [
    "# ToDo\n"
   ]
  },
  {
   "cell_type": "markdown",
   "id": "6e7c8a62",
   "metadata": {},
   "source": [
    "EDA Data Checking: \n",
    "- Data Values\n",
    "- Data Type \n",
    "- Check Distribution of Values\n",
    "- Missing Values \n",
    "- Null Values \n",
    "- Correlations\n",
    "- Data Reduction or Sampling\n",
    "\n",
    "Checkout Result: \n",
    "- Dollar or Euro in GOALS\n",
    "- Time vs Date in LAUNCHED\n",
    "- Canceld? in STATE (Target)\n",
    "- Chancelation Date not there? --> Compare Backers which Cancelled\n",
    "- GOALS, PLEDGES, BACKERS has Outliers\n",
    "- SUBCATEGORIE AND CATERGORIE need one hot encoding\n",
    "- ID needs to be cleaned\n",
    "- NAME needs some kind of segmentic analysis \n",
    "- PreLaunch vs. PostLaunch Analysis  !!\n",
    "\n",
    "Try for Improvments: \n",
    "- Models\n",
    "- Hyperparamter Tuning \n",
    "- Feature Engineering (Segmantic Analyses)"
   ]
  }
 ],
 "metadata": {
  "kernelspec": {
   "display_name": ".venv",
   "language": "python",
   "name": "python3"
  },
  "language_info": {
   "codemirror_mode": {
    "name": "ipython",
    "version": 3
   },
   "file_extension": ".py",
   "mimetype": "text/x-python",
   "name": "python",
   "nbconvert_exporter": "python",
   "pygments_lexer": "ipython3",
   "version": "3.11.3"
  }
 },
 "nbformat": 4,
 "nbformat_minor": 5
}
